{
 "cells": [
  {
   "cell_type": "markdown",
   "metadata": {},
   "source": [
    "# Lab 3- Object Oriented Programming\n",
    "\n",
    "For all of the exercises below, make sure you provide tests of your solutions.\n"
   ]
  },
  {
   "cell_type": "markdown",
   "metadata": {},
   "source": [
    "1. Write a \"counter\" class that can be incremented up to a specified maximum value, will print an error if an attempt is made to increment beyond that value, and allows reseting the counter. "
   ]
  },
  {
   "cell_type": "code",
   "execution_count": 61,
   "metadata": {},
   "outputs": [],
   "source": [
    "class counter:\n",
    "    def __init__(self, maxv):\n",
    "        self.maxv = maxv\n",
    "        self.counterValue = 0\n",
    "\n",
    "    def next(self):\n",
    "        if self.counterValue < self.maxv:\n",
    "            self.counterValue += 1\n",
    "            return self.counterValue\n",
    "        else:\n",
    "            print(\"Maximum value!\")\n",
    "            return None\n",
    "\n",
    "# resets counter\n",
    "    def reset(self):\n",
    "        self.counterValue = 0"
   ]
  },
  {
   "cell_type": "code",
   "execution_count": 79,
   "metadata": {},
   "outputs": [
    {
     "name": "stdout",
     "output_type": "stream",
     "text": [
      "1\n",
      "2\n",
      "3\n",
      "4\n",
      "5\n",
      "6\n",
      "7\n",
      "Maximum value!\n",
      "1\n"
     ]
    }
   ],
   "source": [
    "#set max value is 7\n",
    "c1 = counter(7) \n",
    "\n",
    "#counter values\n",
    "val = c1.next()\n",
    "while(val != None):\n",
    "    print(val)\n",
    "    val = c1.next()\n",
    "\n",
    "#resets counter\n",
    "c1.reset()\n",
    "print(c1.next())"
   ]
  },
  {
   "cell_type": "markdown",
   "metadata": {},
   "source": [
    "2. Copy and paste your solution to question 1 and modify it so that all the data held by the counter is private. Implement functions to check the value of the counter, check the maximum value, and check if the counter is at the maximum."
   ]
  },
  {
   "cell_type": "code",
   "execution_count": 80,
   "metadata": {},
   "outputs": [],
   "source": [
    "class counter:\n",
    "    def __init__(self, maxValue):\n",
    "        self.__maxValue = maxValue\n",
    "        self.__counterValue = 0\n",
    "\n",
    "    def next(self):\n",
    "        if not self.checkCounter():\n",
    "            self.__counterValue += 1\n",
    "            return self.__counterValue\n",
    "        else:\n",
    "            print(\"Maximum value!\")\n",
    "            return None\n",
    "\n",
    "    def CounterValue(self):\n",
    "        return self.__counterValue\n",
    "\n",
    "    def MaximumValue(self):\n",
    "        return self.__maxValue\n",
    "\n",
    "    def checkCounter(self):\n",
    "        return self.__counterValue == self.__maxValue\n",
    "\n",
    "    def reset(self):\n",
    "        self.__counterValue = 0"
   ]
  },
  {
   "cell_type": "code",
   "execution_count": 81,
   "metadata": {},
   "outputs": [
    {
     "name": "stdout",
     "output_type": "stream",
     "text": [
      "1\n",
      "2\n",
      "3\n",
      "Maximum value!\n",
      "The current counter value is  0\n",
      "The max value is 3\n"
     ]
    }
   ],
   "source": [
    "c1 = counter(3) \n",
    "while(c1.next() != None):\n",
    "    print(c1.CounterValue())\n",
    "\n",
    "c1.reset()\n",
    "\n",
    "print(\"The current counter value is \", c1.CounterValue())\n",
    "\n",
    "print(\"The max value is\", c1.MaximumValue())"
   ]
  },
  {
   "cell_type": "markdown",
   "metadata": {},
   "source": [
    "3. Implement a class to represent a rectangle, holding the length, width, and $x$ and $y$ coordinates of a corner of the object. Implement functions that compute the area and perimeter of the rectangle. Make all data members private and privide accessors to retrieve values of data members. "
   ]
  },
  {
   "cell_type": "code",
   "execution_count": 172,
   "metadata": {},
   "outputs": [
    {
     "name": "stdout",
     "output_type": "stream",
     "text": [
      "Length = 30\n",
      "Width = 20\n",
      "Coordinate = (4, 6)\n",
      "Area = 600\n",
      "Perimeter = 100\n"
     ]
    }
   ],
   "source": [
    "class rectangle:\n",
    "    def __init__(self, length, width, x, y):\n",
    "        self.__length = length\n",
    "        self.__width = width\n",
    "        self.__x = x\n",
    "        self.__y = y \n",
    "   \n",
    "    def Length(self):\n",
    "        return self.__length\n",
    "    \n",
    "    def Width(self):\n",
    "        return self.__width\n",
    "    \n",
    "    def Area(self):\n",
    "        return self.__length * self.__width\n",
    "\n",
    "    def Perimeter(self):\n",
    "        return 2 * (self.__length + self.__width)\n",
    "\n",
    "    def Coordinate(self):\n",
    "        return (self.__x, self.__y)\n",
    "\n",
    "r1 = rectangle(30, 20, 4, 6)\n",
    "print(\"Length =\", r1.Length())\n",
    "print(\"Width =\", r1.Width())\n",
    "print(\"Coordinate =\", r1.Coordinate())\n",
    "print(\"Area =\", r1.Area())\n",
    "print(\"Perimeter =\", r1.Perimeter())"
   ]
  },
  {
   "cell_type": "markdown",
   "metadata": {},
   "source": [
    "4. Implement a class to represent a circle, holding the radius and $x$ and $y$ coordinates of center of the object. Implement functions that compute the area and perimeter of the rectangle. Make all data members private and privide accessors to retrieve values of data members. "
   ]
  },
  {
   "cell_type": "code",
   "execution_count": 173,
   "metadata": {},
   "outputs": [
    {
     "name": "stdout",
     "output_type": "stream",
     "text": [
      "Area: 50.26548245743669\n",
      "Perimeter: 25.132741228718345\n"
     ]
    }
   ],
   "source": [
    "import math\n",
    "\n",
    "class Circle:\n",
    "    _x=0\n",
    "    _y=0\n",
    "    _radius=0\n",
    "    \n",
    "    def __init__(self,x,y,r) -> None:\n",
    "        self._x=x\n",
    "        self._y=y\n",
    "        self._radius=r\n",
    "    \n",
    "#private\n",
    "    def X(self):\n",
    "        return self._x\n",
    "    def Y(self):\n",
    "        return self._y\n",
    "    def Radius(self):\n",
    "        return self._radius\n",
    "\n",
    "#Area\n",
    "    def Area(self):\n",
    "        return math.pi*self._radius*self._radius\n",
    "\n",
    "#Perimeter\n",
    "    def Perimeter(self):\n",
    "        return 2*math.pi*self._radius\n",
    "\n",
    "#tester ptogram\n",
    "c=Circle(9,10,4)\n",
    "print(\"Area:\",c.Area())\n",
    "print('Perimeter:',c.Perimeter())"
   ]
  },
  {
   "cell_type": "markdown",
   "metadata": {},
   "source": [
    "5. Implement a common base class for the classes implemented in 3 and 4 above which implements all common methods as not implemented functions (virtual). Re-implement those classes to inherit from the base class and overload the functions accordingly. "
   ]
  },
  {
   "cell_type": "code",
   "execution_count": 175,
   "metadata": {},
   "outputs": [],
   "source": [
    "import math\n",
    "class Shape(object):\n",
    "    def compute_area(self):\n",
    "        pass\n",
    "    \n",
    "    def compute_perimeter(self):\n",
    "        pass\n",
    "    \n",
    "class Rectangle(Shape):\n",
    "    def __init__(self, length, width, x, y):\n",
    "        self.__length = length\n",
    "        self.__width = width\n",
    "        self.__x = x\n",
    "        self.__y = y\n",
    "        \n",
    "    def length(self):\n",
    "        return self.__length\n",
    "        \n",
    "    def width(self):\n",
    "        return self.__width\n",
    "        \n",
    "    def get_x(self):\n",
    "        return self.__x\n",
    "        \n",
    "    def get_y(self):\n",
    "        return self.__y\n",
    "        \n",
    "    def compute_area(self):\n",
    "        return self.__length * self__width\n",
    "        \n",
    "    def compute_perimeter(self):\n",
    "        return 2 * (self.__length + self.__width)\n",
    "        \n",
    "class Circle(Shape):\n",
    "    def __init__(self, radius, x, y):\n",
    "        self.__radius = radius\n",
    "        self.__x = x\n",
    "        self.__y = y\n",
    "        \n",
    "    def get_radius(self):\n",
    "        return self.__radius\n",
    "        \n",
    "    def get_x(self):\n",
    "        return self.__x\n",
    "        \n",
    "    def get_y(self):\n",
    "        return self.__y\n",
    "        \n",
    "    def compute_area(self):\n",
    "        return math.pi * self.__radius**2\n",
    "        \n",
    "    def compute_perimeter(self):\n",
    "        return math.pi * self.__radius * 2"
   ]
  },
  {
   "cell_type": "markdown",
   "metadata": {},
   "source": [
    "6. Implement an analogous triangle class."
   ]
  },
  {
   "cell_type": "code",
   "execution_count": 32,
   "metadata": {},
   "outputs": [
    {
     "ename": "SyntaxError",
     "evalue": "invalid syntax (3787637596.py, line 6)",
     "output_type": "error",
     "traceback": [
      "\u001b[0;36m  Input \u001b[0;32mIn [32]\u001b[0;36m\u001b[0m\n\u001b[0;31m    t = triangle() t.compute_perimeter()\u001b[0m\n\u001b[0m                   ^\u001b[0m\n\u001b[0;31mSyntaxError\u001b[0m\u001b[0;31m:\u001b[0m invalid syntax\n"
     ]
    }
   ],
   "source": [
    "class triangle():\n",
    "    \n",
    "    def __init__(self):\n",
    "        self.shape = 'triangle'\n",
    "        self.side_lengths = [2, 2, 2]\n",
    "        t = triangle() t.compute_perimeter()\n",
    "\n",
    "t.get_number_of_edges()\n",
    "print(t)"
   ]
  },
  {
   "cell_type": "markdown",
   "metadata": {},
   "source": [
    "7. Add a function to the object classes that tests if a given set of $x$ and $y$ coordinates are inside of the object."
   ]
  },
  {
   "cell_type": "code",
   "execution_count": 43,
   "metadata": {},
   "outputs": [
    {
     "name": "stdout",
     "output_type": "stream",
     "text": [
      "<class '__main__.Position'>\n"
     ]
    }
   ],
   "source": [
    "class Position:\n",
    "    def _init_(self,x,y):\n",
    "        self.x=x\n",
    "        self.y=y\n",
    "    \n",
    "    def add(self,other):\n",
    "        self.x += other.x\n",
    "        self.y += other.y\n",
    "        return Position(self.x + other.x , self.y + other.y)\n",
    "    \n",
    "    \n",
    "print (Position)"
   ]
  },
  {
   "cell_type": "code",
   "execution_count": 167,
   "metadata": {},
   "outputs": [],
   "source": [
    "class Position:\n",
    "    \n",
    "    def _init_(self,x,y):\n",
    "        self.x=x\n",
    "        self.y=y\n",
    "        \n",
    "    def inside(self, x, y):\n",
    "        if x >= self.x and x <= self.x + self.width and y >= self.y and y <= self.y + self.height:\n",
    "            return True\n",
    "        else:\n",
    "            return False\n",
    "    "
   ]
  },
  {
   "cell_type": "code",
   "execution_count": 168,
   "metadata": {},
   "outputs": [
    {
     "ename": "NameError",
     "evalue": "name 'y' is not defined",
     "output_type": "error",
     "traceback": [
      "\u001b[0;31m---------------------------------------------------------------------------\u001b[0m",
      "\u001b[0;31mNameError\u001b[0m                                 Traceback (most recent call last)",
      "Input \u001b[0;32mIn [168]\u001b[0m, in \u001b[0;36m<module>\u001b[0;34m\u001b[0m\n\u001b[0;32m----> 1\u001b[0m is_inside(\u001b[43my\u001b[49m,\u001b[38;5;241m50\u001b[39m, \u001b[38;5;241m50\u001b[39m)\n",
      "\u001b[0;31mNameError\u001b[0m: name 'y' is not defined"
     ]
    }
   ],
   "source": [
    "is_inside(y,50, 50)"
   ]
  },
  {
   "cell_type": "markdown",
   "metadata": {},
   "source": [
    "8. Add a function to the object classes that return a list of up to 16 pairs of  $x$ and $y$ points on the parameter of the object.\n",
    "\n"
   ]
  },
  {
   "cell_type": "code",
   "execution_count": 151,
   "metadata": {},
   "outputs": [],
   "source": [
    "class points:\n",
    "    def __init__(self, x, y):\n",
    "        self.x=x\n",
    "        self.y=y\n",
    "        \n",
    "    def __str__(self):\n",
    "        return (self.x, self.y)\n",
    "\n",
    "def function():\n",
    "    points_list = []\n",
    "    for x in range(17):\n",
    "        for y in range(17):\n",
    "            if x == y:\n",
    "                point = points(x,y)\n",
    "                points_list.append(point)\n",
    "    return points_list"
   ]
  },
  {
   "cell_type": "code",
   "execution_count": 152,
   "metadata": {},
   "outputs": [
    {
     "name": "stdout",
     "output_type": "stream",
     "text": [
      "(0,0)\n",
      "(1,1)\n",
      "(2,2)\n",
      "(3,3)\n",
      "(4,4)\n",
      "(5,5)\n",
      "(6,6)\n",
      "(7,7)\n",
      "(8,8)\n",
      "(9,9)\n",
      "(10,10)\n",
      "(11,11)\n",
      "(12,12)\n",
      "(13,13)\n",
      "(14,14)\n",
      "(15,15)\n",
      "(16,16)\n"
     ]
    }
   ],
   "source": [
    "points = function()\n",
    "for point in points:\n",
    "    print(f\"({point.x},{point.y})\")"
   ]
  },
  {
   "cell_type": "markdown",
   "metadata": {},
   "source": [
    "9. Add a function in the base class of the object classes that returns true/false testing that the object overlaps with another object."
   ]
  },
  {
   "cell_type": "code",
   "execution_count": 169,
   "metadata": {},
   "outputs": [
    {
     "name": "stdout",
     "output_type": "stream",
     "text": [
      "Area: 12.566370614359172\n",
      "Perimeter: 12.566370614359172\n"
     ]
    }
   ],
   "source": [
    "import math\n",
    "class Circle:\n",
    "    _x=0\n",
    "    _y=0\n",
    "    _radius=0\n",
    "    def __init__(self,x,y,r) -> None:\n",
    "        self._x=x\n",
    "        self._y=y\n",
    "        self._radius=r\n",
    "\n",
    "    def getX(self):\n",
    "        return self._x\n",
    "    \n",
    "    def getY(self):\n",
    "        return self._y\n",
    "\n",
    "    def getRadius(self):\n",
    "        return self._radius\n",
    "\n",
    "    def area(self):\n",
    "        return math.pi*self._radius*self._radius\n",
    "\n",
    "    def perimeter(self):\n",
    "        return 2*math.pi*self._radius\n",
    "\n",
    "c=Circle(1,6,2)\n",
    "print(\"Area:\",c.area())\n",
    "print('Perimeter:',c.perimeter())"
   ]
  },
  {
   "cell_type": "markdown",
   "metadata": {},
   "source": [
    "10. Copy the `Canvas` class from lecture to in a python file creating a `paint` module. Copy your classes from above into the module and implement paint functions. Implement a `CompoundShape` class. Create a simple drawing demonstrating that all of your classes are working."
   ]
  },
  {
   "cell_type": "code",
   "execution_count": 23,
   "metadata": {},
   "outputs": [],
   "source": [
    "class Canvas:\n",
    "    def __init__(self, width, height):\n",
    "        self.width = width\n",
    "        self.height = height\n",
    "        self.data = [[' '] * width for i in range(height)]\n",
    "\n",
    "    def set_pixel(self, row, col, char='*'):\n",
    "        self.data[row][col] = char\n",
    "\n",
    "    def get_pixel(self, row, col):\n",
    "        return self.data[row][col]\n",
    "    \n",
    "    def v_line(self, x, y, w, **kargs):\n",
    "        for i in range(x,x+w):\n",
    "            self.set_pixel(i,y, **kargs)\n",
    "\n",
    "    def h_line(self, x, y, h, **kargs):\n",
    "        for i in range(y,y+h):\n",
    "            self.set_pixel(x,i, **kargs)\n",
    "            \n",
    "    def line(self, x1, y1, x2, y2, **kargs):\n",
    "        slope = (y2-y1) / (x2-x1)\n",
    "        for y in range(y1,y2):\n",
    "            x= int(slope * y)\n",
    "            self.set_pixel(x,y, **kargs)\n",
    "            \n",
    "    def display(self):\n",
    "        print(\"\\n\".join([\"\".join(row) for row in self.data]))"
   ]
  },
  {
   "cell_type": "code",
   "execution_count": 136,
   "metadata": {},
   "outputs": [],
   "source": [
    "class Shape:\n",
    "    def __init__(self, name=\"\", **kwargs):\n",
    "        self.name=name\n",
    "        self.kwargs=kwargs\n",
    "    \n",
    "    def paint(self, canvas): pass\n",
    "\n",
    "class Rectangle(Shape):\n",
    "    def __init__(self, x, y, w, h, **kwargs):\n",
    "        Shape.__init__(self, **kwargs)\n",
    "        self.x = x\n",
    "        self.y = y\n",
    "        self.w = w\n",
    "        self.h = h\n",
    "\n",
    "    def paint(self, canvas):\n",
    "        canvas.v_line(self.x, self.y, self.w, **self.kwargs)\n",
    "        canvas.v_line(self.x, self.y + self.h, self.w, **self.kwargs)\n",
    "        canvas.h_line(self.x, self.y, self.h, **self.kwargs)\n",
    "        canvas.h_line(self.x + self.w, self.y, self.h, **self.kwargs)\n",
    "\n",
    "class Square(Rectangle):\n",
    "    def __init__(self, x, y, size, **kwargs):\n",
    "        Rectangle.__init__(self, x, y, size, size, **kwargs)\n",
    "\n",
    "class Line(Shape):\n",
    "    def __init__(self, x1, y1, x2, y2,  **kwargs):\n",
    "        Shape.__init__(self, **kwargs)\n",
    "        self.x1=x1\n",
    "        self.y1=y1\n",
    "        self.x2=x2\n",
    "        self.y2=y2\n",
    "        \n",
    "    def paint(self, canvas):\n",
    "        canvas.line(self.x1,self.y1,self.x2,self.y2)\n",
    "        \n",
    "class CompoundShape(Shape):\n",
    "    def __init__(self, shapes):\n",
    "        self.shapes = shapes\n",
    "        \n",
    "    def paint(self, canvas):\n",
    "        for s in self.shapes:\n",
    "            s.paint(canvas)"
   ]
  },
  {
   "cell_type": "code",
   "execution_count": 137,
   "metadata": {},
   "outputs": [
    {
     "name": "stdout",
     "output_type": "stream",
     "text": [
      "                              \n",
      "                              \n",
      "                              \n",
      "                              \n",
      "    ^^^^^^^^^^^^^^^^^^^^^     \n",
      "    ^                   ^     \n",
      "    ^*                  ^     \n",
      "    ^ *                 ^     \n",
      "    ^                   ^     \n",
      "    ^  *                ^     \n",
      "    ^   *               ^     \n",
      "    ^    *              ^     \n",
      "    ^                   ^     \n",
      "    ^     *             ^     \n",
      "    ^      *            ^     \n",
      "    ^       *           ^     \n",
      "    ^        *          ^     \n",
      "    ^                   ^     \n",
      "    ^         *         ^     \n",
      "    ^          *        ^     \n",
      "    ^           *       ^     \n",
      "    ^                   ^     \n",
      "    ^            *      ^     \n",
      "    ^                   ^     \n",
      "    ^^^^^^^^^^^^^^^^^^^^      \n",
      "                              \n",
      "                              \n",
      "                              \n",
      "                              \n",
      "                              \n"
     ]
    }
   ],
   "source": [
    "c1=Canvas(30,30)\n",
    "s1=Square(4,4,20,char=\"^\")\n",
    "s1.paint(c1)\n",
    "l1=Line(5,5,15,18)\n",
    "l1.paint(c1)\n",
    "\n",
    "c1.display()"
   ]
  },
  {
   "cell_type": "markdown",
   "metadata": {},
   "source": [
    "11. Create a `RasterDrawing` class. Demonstrate that you can create a drawing made of several shapes, paint the drawing, modify the drawing, and paint it again. "
   ]
  },
  {
   "cell_type": "code",
   "execution_count": 138,
   "metadata": {},
   "outputs": [],
   "source": [
    "class RasterDrawing:\n",
    "    def __init__(self):\n",
    "        self.shapes=dict()\n",
    "        self.shape_names=list()\n",
    "        \n",
    "    def add_shape(self,shape):\n",
    "        if shape.name == \"\":\n",
    "            shape.name = self.assign_name()\n",
    "        \n",
    "        self.shapes[shape.name]=shape\n",
    "        self.shape_names.append(shape.name)\n",
    "        \n",
    "    def paint(self,canvas):\n",
    "        for shape_name in self.shape_names:\n",
    "            self.shapes[shape_name].paint(canvas)\n",
    "            \n",
    "    def assign_name(self):\n",
    "        name_base=\"shape\"\n",
    "        name = name_base+\"_0\"\n",
    "        \n",
    "        i=1\n",
    "        while name in self.shapes:\n",
    "            name = name_base+\"_\"+str(i)\n",
    "            \n",
    "        return name"
   ]
  },
  {
   "cell_type": "code",
   "execution_count": 139,
   "metadata": {},
   "outputs": [
    {
     "name": "stdout",
     "output_type": "stream",
     "text": [
      "                              \n",
      "                              \n",
      "                              \n",
      "                              \n",
      "    ^^^^^^^^^^^^^^^^^^^^^     \n",
      "    ^                   ^     \n",
      "    ^*                  ^     \n",
      "    ^ *                 ^     \n",
      "    ^                   ^     \n",
      "    ^  *                ^     \n",
      "    ^   *               ^     \n",
      "    ^    *              ^     \n",
      "    ^                   ^     \n",
      "    ^     *             ^     \n",
      "    ^      *            ^     \n",
      "    ^       *           ^     \n",
      "    ^        *          ^     \n",
      "    ^                   ^     \n",
      "    ^         *         ^     \n",
      "    ^          *        ^     \n",
      "    ^           *       ^     \n",
      "    ^                   ^     \n",
      "    ^            *      ^     \n",
      "    ^                   ^     \n",
      "    ^^^^^^^^^^^^^^^^^^^^      \n",
      "                              \n",
      "                              \n",
      "                              \n",
      "                              \n",
      "                              \n"
     ]
    }
   ],
   "source": [
    "c1=Canvas(30,30)\n",
    "rd=RasterDrawing()\n",
    "\n",
    "rd.add_shape(Square(4,4,20,char=\"^\"))\n",
    "rd.add_shape(Line(5,5,15,18))\n",
    "\n",
    "rd.paint(c1)\n",
    "\n",
    "c1.display()"
   ]
  },
  {
   "cell_type": "code",
   "execution_count": 135,
   "metadata": {},
   "outputs": [
    {
     "name": "stdout",
     "output_type": "stream",
     "text": [
      "                              \n",
      "                              \n",
      "                              \n",
      "                              \n",
      "    ^^^^^^^^^^^^^^^^^^^^^     \n",
      "    ^                   ^     \n",
      "    ^*                  ^     \n",
      "    ^ *                 ^     \n",
      "    ^                   ^     \n",
      "    ^  *                ^     \n",
      "    ^   *               ^     \n",
      "    ^    *              ^     \n",
      "    ^                   ^     \n",
      "    ^     *             ^     \n",
      "    ^      *            ^     \n",
      "    ^       *           ^     \n",
      "    ^        *          ^     \n",
      "    ^                   ^     \n",
      "    ^         *         ^     \n",
      "    ^          *        ^     \n",
      "    ^           *       ^     \n",
      "    ^                   ^     \n",
      "    ^            *      ^     \n",
      "    ^                   ^     \n",
      "    ^^^^^^^^^^^^^^^^^^^^      \n",
      "                              \n",
      "                              \n",
      "                              \n",
      "                              \n",
      "                              \n"
     ]
    }
   ],
   "source": [
    "rd.shapes[\"shape_0\"].w=4\n",
    "c1.display()"
   ]
  },
  {
   "cell_type": "markdown",
   "metadata": {},
   "source": [
    "12. Implement the ability to load/save raster drawings and demonstate that your method works. One way to implement this ability:\n",
    "\n",
    "   * Overload `__repr__` functions of all objects to return strings of the python code that would constructor the object.\n",
    "   \n",
    "   * In the save method of raster drawing class, store the representations into the file.\n",
    "   * Write a loader function that reads the file and uses `eval` to instantiate the object.\n",
    "\n",
    "For example:"
   ]
  },
  {
   "cell_type": "code",
   "execution_count": 140,
   "metadata": {},
   "outputs": [],
   "source": [
    "class foo:\n",
    "    def __init__(self,a,b=None):\n",
    "        self.a=a\n",
    "        self.b=b\n",
    "        \n",
    "    def __repr__(self):\n",
    "        return \"foo(\"+repr(self.a)+\",\"+repr(self.b)+\")\"\n",
    "    \n",
    "    def save(self,filename):\n",
    "        f=open(filename,\"w\")\n",
    "        f.write(self.__repr__())\n",
    "        f.close()\n",
    "        \n",
    "   \n",
    "    def foo_loader(filename):\n",
    "        f=open(filename,\"r\")\n",
    "        tmp=eval(f.read())\n",
    "        f.close()\n",
    "        return tmp\n"
   ]
  },
  {
   "cell_type": "code",
   "execution_count": 141,
   "metadata": {},
   "outputs": [
    {
     "name": "stdout",
     "output_type": "stream",
     "text": [
      "foo(1,'hello')\n"
     ]
    }
   ],
   "source": [
    "# Test\n",
    "print(repr(foo(1,\"hello\")))"
   ]
  },
  {
   "cell_type": "code",
   "execution_count": 142,
   "metadata": {},
   "outputs": [],
   "source": [
    "# Create an object and save it\n",
    "ff=foo(1,\"hello\")\n",
    "ff.save(\"Test.foo\")"
   ]
  },
  {
   "cell_type": "code",
   "execution_count": 143,
   "metadata": {},
   "outputs": [
    {
     "name": "stdout",
     "output_type": "stream",
     "text": [
      "foo(1,'hello')"
     ]
    }
   ],
   "source": [
    "# Check contents of the saved file\n",
    "!cat Test.foo"
   ]
  },
  {
   "cell_type": "code",
   "execution_count": 144,
   "metadata": {},
   "outputs": [
    {
     "data": {
      "text/plain": [
       "foo(1,'hello')"
      ]
     },
     "execution_count": 144,
     "metadata": {},
     "output_type": "execute_result"
    }
   ],
   "source": [
    "# Load the object\n",
    "ff_reloaded=foo_loader(\"Test.foo\")\n",
    "ff_reloaded"
   ]
  }
 ],
 "metadata": {
  "kernelspec": {
   "display_name": "Python 3 (ipykernel)",
   "language": "python",
   "name": "python3"
  },
  "language_info": {
   "codemirror_mode": {
    "name": "ipython",
    "version": 3
   },
   "file_extension": ".py",
   "mimetype": "text/x-python",
   "name": "python",
   "nbconvert_exporter": "python",
   "pygments_lexer": "ipython3",
   "version": "3.9.10"
  }
 },
 "nbformat": 4,
 "nbformat_minor": 2
}
